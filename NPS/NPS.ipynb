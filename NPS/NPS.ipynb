{
 "cells": [
  {
   "cell_type": "markdown",
   "id": "49a6ae19",
   "metadata": {},
   "source": [
    "# NPS анализ\n",
    "\n",
    "\n",
    "**Задача:** определить текущий уровень потребительской лояльности среди клиентов телекоммуникационной компании из России."
   ]
  },
  {
   "cell_type": "markdown",
   "id": "40ac4ea0",
   "metadata": {},
   "source": [
    "## Подключение к базе"
   ]
  },
  {
   "cell_type": "code",
   "execution_count": 1,
   "id": "fc7efa54",
   "metadata": {},
   "outputs": [],
   "source": [
    "import os\n",
    "import pandas as pd\n",
    "import numpy as np\n",
    "\n",
    "from sqlalchemy import create_engine"
   ]
  },
  {
   "cell_type": "code",
   "execution_count": 2,
   "id": "0017f8e7",
   "metadata": {},
   "outputs": [],
   "source": [
    "path_to_db_local = 'telecomm_csi.db'\n",
    "path_to_db_platform = 'datasets/telecomm_csi.db'\n",
    "path_to_db = None\n",
    "\n",
    "if os.path.exists(path_to_db_local):\n",
    "    path_to_db = path_to_db_local\n",
    "elif os.path.exists(path_to_db_platform):\n",
    "    path_to_db = path_to_db_platform\n",
    "else:\n",
    "    raise Exception('Файл с базой данных SQLite не найден!')\n",
    "\n",
    "if path_to_db:\n",
    "    engine = create_engine(f'sqlite:///{path_to_db}', echo=False)"
   ]
  },
  {
   "cell_type": "markdown",
   "id": "5e7cdb2b",
   "metadata": {},
   "source": [
    "## Выгрузка данных"
   ]
  },
  {
   "cell_type": "code",
   "execution_count": 3,
   "id": "84ebad43",
   "metadata": {},
   "outputs": [],
   "source": [
    "query = \"\"\"\n",
    "SELECT usr.user_id,\n",
    "       usr.lt_day,\n",
    "       CASE\n",
    "           WHEN usr.lt_day <= 365 THEN TRUE\n",
    "           ELSE FALSE\n",
    "       END AS is_new,\n",
    "       usr.age,\n",
    "       CASE \n",
    "           WHEN usr.gender_segment = 1 THEN 'female'\n",
    "           WHEN usr.gender_segment = 0 THEN 'male'\n",
    "           ELSE 'unknown' \n",
    "        END AS gender_segment,\n",
    "        usr.os_name,\n",
    "        usr.cpe_type_name,\n",
    "        lcl.country,\n",
    "        lcl.city,\n",
    "        age_sgm.title AS age_segment,\n",
    "        tr_sgm.title AS traffic_segment,\n",
    "        lt_sgm.title AS lifetime_segment,\n",
    "        usr.nps_score,\n",
    "        CASE\n",
    "            WHEN nps_score >= 9 THEN 'promoters'\n",
    "            WHEN nps_score >= 7 THEN 'passives'\n",
    "            ELSE 'detractors'\n",
    "        END AS nps_group\n",
    "FROM user AS usr\n",
    "LEFT OUTER JOIN location AS lcl ON usr.location_id = lcl.location_id\n",
    "LEFT OUTER JOIN age_segment AS age_sgm ON usr.age_gr_id = age_sgm.age_gr_id \n",
    "LEFT OUTER JOIN traffic_segment AS tr_sgm ON usr.tr_gr_id = tr_sgm.tr_gr_id\n",
    "LEFT OUTER JOIN lifetime_segment AS lt_sgm ON usr.lt_gr_id = lt_sgm.lt_gr_id\n",
    "\"\"\""
   ]
  },
  {
   "cell_type": "code",
   "execution_count": 4,
   "id": "3965faf2",
   "metadata": {},
   "outputs": [
    {
     "data": {
      "text/html": [
       "<div>\n",
       "<style scoped>\n",
       "    .dataframe tbody tr th:only-of-type {\n",
       "        vertical-align: middle;\n",
       "    }\n",
       "\n",
       "    .dataframe tbody tr th {\n",
       "        vertical-align: top;\n",
       "    }\n",
       "\n",
       "    .dataframe thead th {\n",
       "        text-align: right;\n",
       "    }\n",
       "</style>\n",
       "<table border=\"1\" class=\"dataframe\">\n",
       "  <thead>\n",
       "    <tr style=\"text-align: right;\">\n",
       "      <th></th>\n",
       "      <th>user_id</th>\n",
       "      <th>lt_day</th>\n",
       "      <th>is_new</th>\n",
       "      <th>age</th>\n",
       "      <th>gender_segment</th>\n",
       "      <th>os_name</th>\n",
       "      <th>cpe_type_name</th>\n",
       "      <th>country</th>\n",
       "      <th>city</th>\n",
       "      <th>age_segment</th>\n",
       "      <th>traffic_segment</th>\n",
       "      <th>lifetime_segment</th>\n",
       "      <th>nps_score</th>\n",
       "      <th>nps_group</th>\n",
       "    </tr>\n",
       "  </thead>\n",
       "  <tbody>\n",
       "    <tr>\n",
       "      <th>0</th>\n",
       "      <td>A001A2</td>\n",
       "      <td>2320</td>\n",
       "      <td>0</td>\n",
       "      <td>45.0</td>\n",
       "      <td>female</td>\n",
       "      <td>ANDROID</td>\n",
       "      <td>SMARTPHONE</td>\n",
       "      <td>Россия</td>\n",
       "      <td>Уфа</td>\n",
       "      <td>05 45-54</td>\n",
       "      <td>04 1-5</td>\n",
       "      <td>08 36+</td>\n",
       "      <td>10</td>\n",
       "      <td>promoters</td>\n",
       "    </tr>\n",
       "    <tr>\n",
       "      <th>1</th>\n",
       "      <td>A001WF</td>\n",
       "      <td>2344</td>\n",
       "      <td>0</td>\n",
       "      <td>53.0</td>\n",
       "      <td>male</td>\n",
       "      <td>ANDROID</td>\n",
       "      <td>SMARTPHONE</td>\n",
       "      <td>Россия</td>\n",
       "      <td>Киров</td>\n",
       "      <td>05 45-54</td>\n",
       "      <td>04 1-5</td>\n",
       "      <td>08 36+</td>\n",
       "      <td>10</td>\n",
       "      <td>promoters</td>\n",
       "    </tr>\n",
       "    <tr>\n",
       "      <th>2</th>\n",
       "      <td>A003Q7</td>\n",
       "      <td>467</td>\n",
       "      <td>0</td>\n",
       "      <td>57.0</td>\n",
       "      <td>male</td>\n",
       "      <td>ANDROID</td>\n",
       "      <td>SMARTPHONE</td>\n",
       "      <td>Россия</td>\n",
       "      <td>Москва</td>\n",
       "      <td>06 55-64</td>\n",
       "      <td>08 20-25</td>\n",
       "      <td>06 13-24</td>\n",
       "      <td>10</td>\n",
       "      <td>promoters</td>\n",
       "    </tr>\n",
       "  </tbody>\n",
       "</table>\n",
       "</div>"
      ],
      "text/plain": [
       "  user_id  lt_day  is_new   age gender_segment  os_name cpe_type_name country  \\\n",
       "0  A001A2    2320       0  45.0         female  ANDROID    SMARTPHONE  Россия   \n",
       "1  A001WF    2344       0  53.0           male  ANDROID    SMARTPHONE  Россия   \n",
       "2  A003Q7     467       0  57.0           male  ANDROID    SMARTPHONE  Россия   \n",
       "\n",
       "     city age_segment traffic_segment lifetime_segment  nps_score  nps_group  \n",
       "0     Уфа    05 45-54          04 1-5           08 36+         10  promoters  \n",
       "1   Киров    05 45-54          04 1-5           08 36+         10  promoters  \n",
       "2  Москва    06 55-64        08 20-25         06 13-24         10  promoters  "
      ]
     },
     "execution_count": 4,
     "metadata": {},
     "output_type": "execute_result"
    }
   ],
   "source": [
    "df = pd.read_sql(query, engine)\n",
    "df.head(3)"
   ]
  },
  {
   "cell_type": "code",
   "execution_count": 6,
   "id": "9db04858",
   "metadata": {},
   "outputs": [],
   "source": [
    "df.to_csv('telecomm_csi_tableau_.csv', index=False)"
   ]
  },
  {
   "cell_type": "markdown",
   "id": "99404a8e",
   "metadata": {},
   "source": [
    "## Дашборд"
   ]
  },
  {
   "cell_type": "code",
   "execution_count": 7,
   "id": "e2102475",
   "metadata": {},
   "outputs": [],
   "source": [
    "# https://public.tableau.com/views/NPS_16974740581420/NPS_2?:language=en-US&publish=yes&:sid=&:redirect=auth&:display_count=n&:origin=viz_share_link"
   ]
  },
  {
   "cell_type": "code",
   "execution_count": null,
   "id": "8c32e314",
   "metadata": {},
   "outputs": [],
   "source": []
  }
 ],
 "metadata": {
  "ExecuteTimeLog": [
   {
    "duration": 586,
    "start_time": "2023-10-15T06:39:34.441Z"
   },
   {
    "duration": 86,
    "start_time": "2023-10-15T06:39:35.735Z"
   },
   {
    "duration": 2,
    "start_time": "2023-10-15T08:11:55.120Z"
   },
   {
    "duration": 603,
    "start_time": "2023-10-15T08:12:00.940Z"
   },
   {
    "duration": 2,
    "start_time": "2023-10-15T08:12:35.773Z"
   },
   {
    "duration": 564,
    "start_time": "2023-10-15T08:12:36.321Z"
   },
   {
    "duration": 508,
    "start_time": "2023-10-15T08:13:04.741Z"
   },
   {
    "duration": 503,
    "start_time": "2023-10-15T08:13:10.048Z"
   },
   {
    "duration": 2,
    "start_time": "2023-10-15T08:14:31.074Z"
   },
   {
    "duration": 3123,
    "start_time": "2023-10-15T08:14:46.999Z"
   },
   {
    "duration": 4,
    "start_time": "2023-10-15T08:20:49.026Z"
   },
   {
    "duration": 5589,
    "start_time": "2023-10-15T08:20:52.494Z"
   },
   {
    "duration": 5,
    "start_time": "2023-10-15T11:41:01.450Z"
   },
   {
    "duration": 6062,
    "start_time": "2023-10-15T11:41:04.975Z"
   },
   {
    "duration": 4,
    "start_time": "2023-10-15T11:42:17.936Z"
   },
   {
    "duration": 5762,
    "start_time": "2023-10-15T11:42:20.045Z"
   },
   {
    "duration": 3,
    "start_time": "2023-10-15T11:43:44.769Z"
   },
   {
    "duration": 5477,
    "start_time": "2023-10-15T11:43:46.541Z"
   },
   {
    "duration": 114,
    "start_time": "2023-10-15T13:26:08.044Z"
   },
   {
    "duration": 107,
    "start_time": "2023-10-15T13:26:26.703Z"
   },
   {
    "duration": 106,
    "start_time": "2023-10-15T13:27:39.909Z"
   },
   {
    "duration": 3,
    "start_time": "2023-10-15T13:28:12.634Z"
   },
   {
    "duration": 5384,
    "start_time": "2023-10-15T13:28:15.718Z"
   },
   {
    "duration": 4,
    "start_time": "2023-10-15T13:28:35.097Z"
   },
   {
    "duration": 4,
    "start_time": "2023-10-15T13:29:11.721Z"
   },
   {
    "duration": 3,
    "start_time": "2023-10-15T13:29:58.993Z"
   },
   {
    "duration": 5543,
    "start_time": "2023-10-15T13:30:01.036Z"
   },
   {
    "duration": 1599,
    "start_time": "2023-10-15T13:30:09.080Z"
   },
   {
    "duration": 3,
    "start_time": "2023-10-15T13:32:11.923Z"
   },
   {
    "duration": 5462,
    "start_time": "2023-10-15T13:32:15.503Z"
   },
   {
    "duration": 3,
    "start_time": "2023-10-15T13:32:49.162Z"
   },
   {
    "duration": 5406,
    "start_time": "2023-10-15T13:32:50.972Z"
   },
   {
    "duration": 3,
    "start_time": "2023-10-15T13:37:08.942Z"
   },
   {
    "duration": 360,
    "start_time": "2023-10-15T13:37:10.959Z"
   },
   {
    "duration": 3,
    "start_time": "2023-10-15T13:39:05.601Z"
   },
   {
    "duration": 574,
    "start_time": "2023-10-15T13:40:04.447Z"
   },
   {
    "duration": 186,
    "start_time": "2023-10-15T13:40:05.023Z"
   },
   {
    "duration": 3,
    "start_time": "2023-10-15T13:40:05.212Z"
   },
   {
    "duration": 727,
    "start_time": "2023-10-15T13:40:10.276Z"
   },
   {
    "duration": 3,
    "start_time": "2023-10-15T13:40:35.371Z"
   },
   {
    "duration": 3065,
    "start_time": "2023-10-15T13:40:37.239Z"
   },
   {
    "duration": 2,
    "start_time": "2023-10-15T13:40:49.277Z"
   },
   {
    "duration": 1985,
    "start_time": "2023-10-15T13:40:51.384Z"
   },
   {
    "duration": 2,
    "start_time": "2023-10-15T13:41:22.930Z"
   },
   {
    "duration": 2143,
    "start_time": "2023-10-15T13:41:24.477Z"
   },
   {
    "duration": 3,
    "start_time": "2023-10-15T13:42:06.936Z"
   },
   {
    "duration": 3417,
    "start_time": "2023-10-15T13:42:08.112Z"
   },
   {
    "duration": 3,
    "start_time": "2023-10-15T13:42:29.300Z"
   },
   {
    "duration": 2155,
    "start_time": "2023-10-15T13:42:30.647Z"
   },
   {
    "duration": 2,
    "start_time": "2023-10-15T13:43:22.057Z"
   },
   {
    "duration": 2147,
    "start_time": "2023-10-15T13:43:23.290Z"
   },
   {
    "duration": 3,
    "start_time": "2023-10-15T13:44:12.726Z"
   },
   {
    "duration": 79,
    "start_time": "2023-10-15T13:44:12.731Z"
   },
   {
    "duration": 3,
    "start_time": "2023-10-15T13:44:12.811Z"
   },
   {
    "duration": 5679,
    "start_time": "2023-10-15T13:44:12.815Z"
   },
   {
    "duration": 4805,
    "start_time": "2023-10-15T13:44:18.496Z"
   },
   {
    "duration": 3,
    "start_time": "2023-10-15T13:51:15.969Z"
   },
   {
    "duration": 165,
    "start_time": "2023-10-15T13:51:15.975Z"
   },
   {
    "duration": 4,
    "start_time": "2023-10-15T13:51:16.142Z"
   },
   {
    "duration": 5538,
    "start_time": "2023-10-15T13:51:16.148Z"
   },
   {
    "duration": 5951,
    "start_time": "2023-10-15T13:51:21.688Z"
   }
  ],
  "kernelspec": {
   "display_name": "Python 3 (ipykernel)",
   "language": "python",
   "name": "python3"
  },
  "language_info": {
   "codemirror_mode": {
    "name": "ipython",
    "version": 3
   },
   "file_extension": ".py",
   "mimetype": "text/x-python",
   "name": "python",
   "nbconvert_exporter": "python",
   "pygments_lexer": "ipython3",
   "version": "3.10.9"
  },
  "toc": {
   "base_numbering": 1,
   "nav_menu": {},
   "number_sections": true,
   "sideBar": true,
   "skip_h1_title": true,
   "title_cell": "Table of Contents",
   "title_sidebar": "Contents",
   "toc_cell": false,
   "toc_position": {},
   "toc_section_display": true,
   "toc_window_display": false
  }
 },
 "nbformat": 4,
 "nbformat_minor": 5
}
